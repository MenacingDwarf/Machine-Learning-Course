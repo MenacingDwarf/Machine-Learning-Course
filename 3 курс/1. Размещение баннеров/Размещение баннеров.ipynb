{
 "cells": [
  {
   "cell_type": "code",
   "execution_count": 6,
   "metadata": {},
   "outputs": [],
   "source": [
    "from sklearn import metrics\n",
    "from sklearn.model_selection import cross_val_score, train_test_split\n",
    "from sklearn.cluster import MeanShift\n",
    "import pandas as pd\n",
    "import numpy as np"
   ]
  },
  {
   "cell_type": "code",
   "execution_count": 3,
   "metadata": {},
   "outputs": [],
   "source": [
    "new_file_name = 'checkins.csv'\n",
    "\n",
    "with open('checkins.dat', 'r') as file1:\n",
    "    with open(new_file_name, 'w') as file2:\n",
    "        for index, line in enumerate(file1):\n",
    "            newLine = line.replace(' ','').replace('|', ',')\n",
    "            if (index != 1):\n",
    "                file2.write(newLine)"
   ]
  },
  {
   "cell_type": "code",
   "execution_count": 11,
   "metadata": {},
   "outputs": [
    {
     "data": {
      "text/html": [
       "<div>\n",
       "<style scoped>\n",
       "    .dataframe tbody tr th:only-of-type {\n",
       "        vertical-align: middle;\n",
       "    }\n",
       "\n",
       "    .dataframe tbody tr th {\n",
       "        vertical-align: top;\n",
       "    }\n",
       "\n",
       "    .dataframe thead th {\n",
       "        text-align: right;\n",
       "    }\n",
       "</style>\n",
       "<table border=\"1\" class=\"dataframe\">\n",
       "  <thead>\n",
       "    <tr style=\"text-align: right;\">\n",
       "      <th></th>\n",
       "      <th>id</th>\n",
       "      <th>user_id</th>\n",
       "      <th>venue_id</th>\n",
       "      <th>latitude</th>\n",
       "      <th>longitude</th>\n",
       "      <th>created_at</th>\n",
       "    </tr>\n",
       "  </thead>\n",
       "  <tbody>\n",
       "    <tr>\n",
       "      <th>1</th>\n",
       "      <td>984222</td>\n",
       "      <td>15824.0</td>\n",
       "      <td>5222.0</td>\n",
       "      <td>38.895112</td>\n",
       "      <td>-77.036366</td>\n",
       "      <td>2012-04-2117:43:47</td>\n",
       "    </tr>\n",
       "    <tr>\n",
       "      <th>3</th>\n",
       "      <td>984234</td>\n",
       "      <td>44652.0</td>\n",
       "      <td>5222.0</td>\n",
       "      <td>33.800745</td>\n",
       "      <td>-84.410520</td>\n",
       "      <td>2012-04-2117:43:43</td>\n",
       "    </tr>\n",
       "    <tr>\n",
       "      <th>7</th>\n",
       "      <td>984291</td>\n",
       "      <td>105054.0</td>\n",
       "      <td>5222.0</td>\n",
       "      <td>45.523452</td>\n",
       "      <td>-122.676207</td>\n",
       "      <td>2012-04-2117:39:22</td>\n",
       "    </tr>\n",
       "    <tr>\n",
       "      <th>9</th>\n",
       "      <td>984318</td>\n",
       "      <td>2146539.0</td>\n",
       "      <td>5222.0</td>\n",
       "      <td>40.764462</td>\n",
       "      <td>-111.904565</td>\n",
       "      <td>2012-04-2117:35:46</td>\n",
       "    </tr>\n",
       "    <tr>\n",
       "      <th>10</th>\n",
       "      <td>984232</td>\n",
       "      <td>93870.0</td>\n",
       "      <td>380645.0</td>\n",
       "      <td>33.448377</td>\n",
       "      <td>-112.074037</td>\n",
       "      <td>2012-04-2117:38:18</td>\n",
       "    </tr>\n",
       "  </tbody>\n",
       "</table>\n",
       "</div>"
      ],
      "text/plain": [
       "        id    user_id  venue_id   latitude   longitude          created_at\n",
       "1   984222    15824.0    5222.0  38.895112  -77.036366  2012-04-2117:43:47\n",
       "3   984234    44652.0    5222.0  33.800745  -84.410520  2012-04-2117:43:43\n",
       "7   984291   105054.0    5222.0  45.523452 -122.676207  2012-04-2117:39:22\n",
       "9   984318  2146539.0    5222.0  40.764462 -111.904565  2012-04-2117:35:46\n",
       "10  984232    93870.0  380645.0  33.448377 -112.074037  2012-04-2117:38:18"
      ]
     },
     "execution_count": 11,
     "metadata": {},
     "output_type": "execute_result"
    }
   ],
   "source": [
    "data = pd.read_csv(new_file_name).dropna()\n",
    "data.head()"
   ]
  },
  {
   "cell_type": "code",
   "execution_count": 17,
   "metadata": {},
   "outputs": [
    {
     "data": {
      "text/plain": [
       "{'bandwidth': 0.1,\n",
       " 'bin_seeding': False,\n",
       " 'cluster_all': True,\n",
       " 'min_bin_freq': 1,\n",
       " 'n_jobs': None,\n",
       " 'seeds': None}"
      ]
     },
     "execution_count": 17,
     "metadata": {},
     "output_type": "execute_result"
    }
   ],
   "source": [
    "clastering = MeanShift(bandwidth=0.1).fit(data[['latitude','longitude']][:100100])\n",
    "clastering.get_params()"
   ]
  },
  {
   "cell_type": "code",
   "execution_count": 28,
   "metadata": {},
   "outputs": [
    {
     "data": {
      "text/plain": [
       "0.007834758163107856"
      ]
     },
     "execution_count": 28,
     "metadata": {},
     "output_type": "execute_result"
    }
   ],
   "source": [
    "offices = [[33.751277, -118.188740], \n",
    "           [25.867736, -80.324116], \n",
    "           [51.503016, -0.075479], \n",
    "           [52.378894, 4.885084], \n",
    "           [39.366487, 117.036146],\n",
    "           [-33.868457, 151.205134]]\n",
    "\n",
    "nearest_dist = np.inf\n",
    "nearest_center = [0, 0]\n",
    "for center in clastering.cluster_centers_:\n",
    "    nearest_office_dist = np.inf\n",
    "    for office in offices:\n",
    "        dist = np.linalg.norm(center-office)\n",
    "        if nearest_office_dist > dist:\n",
    "            nearest_office_dist = dist\n",
    "    if nearest_dist > nearest_office_dist:\n",
    "        nearest_dist = nearest_office_dist\n",
    "        nearest_center = center\n",
    "        \n",
    "with open('1.txt', \"w\") as file:\n",
    "    file.write(' '.join(map(str, nearest_center)))\n",
    "\n",
    "nearest_dist"
   ]
  },
  {
   "cell_type": "code",
   "execution_count": null,
   "metadata": {},
   "outputs": [],
   "source": []
  }
 ],
 "metadata": {
  "kernelspec": {
   "display_name": "Python 3",
   "language": "python",
   "name": "python3"
  },
  "language_info": {
   "codemirror_mode": {
    "name": "ipython",
    "version": 3
   },
   "file_extension": ".py",
   "mimetype": "text/x-python",
   "name": "python",
   "nbconvert_exporter": "python",
   "pygments_lexer": "ipython3",
   "version": "3.7.2"
  }
 },
 "nbformat": 4,
 "nbformat_minor": 2
}
